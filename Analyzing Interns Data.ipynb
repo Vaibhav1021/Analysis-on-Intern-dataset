{
 "cells": [
  {
   "cell_type": "markdown",
   "id": "2458d5f6",
   "metadata": {},
   "source": [
    "### Import Necessary Libraries"
   ]
  },
  {
   "cell_type": "code",
   "execution_count": 197,
   "id": "d7a031e6",
   "metadata": {},
   "outputs": [],
   "source": [
    "import pandas as pd\n",
    "import matplotlib.pyplot as plt"
   ]
  },
  {
   "cell_type": "markdown",
   "id": "2907582e",
   "metadata": {},
   "source": [
    "### Reading Data from file"
   ]
  },
  {
   "cell_type": "code",
   "execution_count": 198,
   "id": "1f027a59",
   "metadata": {},
   "outputs": [],
   "source": [
    "data = pd.read_csv('C:/Users/Vaibhav/Desktop/inotask1/raw_data_v11_3.csv')"
   ]
  },
  {
   "cell_type": "code",
   "execution_count": 199,
   "id": "32bcfd91",
   "metadata": {},
   "outputs": [
    {
     "name": "stdout",
     "output_type": "stream",
     "text": [
      "Current profession of most interns: Student (I am currently enrolled in some Educational Program)                          488\n",
      "Fresher (I have completed my Education and looking for a job now)                      424\n",
      "Working Professional (I have completed my Education and working full time)              62\n",
      "Freelancer (I have completed my Education and working part time or owns a business)     26\n",
      "Name: What is your current profession?, dtype: int64\n"
     ]
    }
   ],
   "source": [
    "# Current professions of Interns\n",
    "current_profession = data['What is your current profession?'].value_counts()\n",
    "print(\"Current profession of most interns:\", current_profession)"
   ]
  },
  {
   "cell_type": "code",
   "execution_count": 200,
   "id": "f0a07009",
   "metadata": {},
   "outputs": [
    {
     "name": "stdout",
     "output_type": "stream",
     "text": [
      "Preferred LIVE session timings: 6:00 to 7:00 PM IST    672\n",
      "5:00 to 6:00 PM IST    328\n",
      "Name: Please indicate the time that suits you for your daily LIVE interaction with our Chief Data Scientist as part of your internship., dtype: int64\n"
     ]
    }
   ],
   "source": [
    "# determining the availabilty time of most intern for live session\n",
    "live_session_timings = data['Please indicate the time that suits you for your daily LIVE interaction with our Chief Data Scientist as part of your internship.'].value_counts()\n",
    "print(\"Preferred LIVE session timings:\", live_session_timings)"
   ]
  },
  {
   "cell_type": "code",
   "execution_count": 201,
   "id": "667eb209",
   "metadata": {},
   "outputs": [
    {
     "name": "stdout",
     "output_type": "stream",
     "text": [
      "Current course acquisition of interns: I am currently enrolled in a Data Science certification course    405\n",
      "I have never enrolled in any certification courses                302\n",
      "I have completed a Data Science certification course              293\n",
      "Name: Which of the following best describes you?, dtype: int64\n"
     ]
    }
   ],
   "source": [
    "# level of experience or awareness of interns with data science\n",
    "data_science_courses = data['Which of the following best describes you?'].value_counts()\n",
    "print(\"Current course acquisition of interns:\", data_science_courses)"
   ]
  },
  {
   "cell_type": "code",
   "execution_count": 202,
   "id": "b6174b38",
   "metadata": {},
   "outputs": [
    {
     "name": "stdout",
     "output_type": "stream",
     "text": [
      "Most common profession of interns who have never enrolled in any certification courses: Student (I am currently enrolled in some Educational Program)\n"
     ]
    }
   ],
   "source": [
    "# Profession of intern with no enrollment in any certification courses\n",
    "never_enrolled_profession = data[data['Which of the following best describes you?'] == 'I have never enrolled in any certification courses']['What is your current profession?'].value_counts().idxmax()\n",
    "print(\"Most common profession of interns who have never enrolled in any certification courses:\", never_enrolled_profession)"
   ]
  },
  {
   "cell_type": "code",
   "execution_count": 203,
   "id": "ec9eabe2",
   "metadata": {},
   "outputs": [
    {
     "name": "stdout",
     "output_type": "stream",
     "text": [
      "Age groups of fellow interns: 10/2    33\n",
      "11/2    32\n",
      "12/2    30\n",
      "10/1    28\n",
      "11/1    28\n",
      "        ..\n",
      "3/17     1\n",
      "1/25     1\n",
      "3/1/     1\n",
      "3/9/     1\n",
      "6/3/     1\n",
      "Name: Date of Birth, Length: 274, dtype: int64\n"
     ]
    }
   ],
   "source": [
    "age_groups = data['Date of Birth'].apply(lambda x: x[:4])\n",
    "age_groups = age_groups.value_counts()\n",
    "print(\"Age groups of fellow interns:\", age_groups)"
   ]
  },
  {
   "cell_type": "code",
   "execution_count": 204,
   "id": "776aa17c",
   "metadata": {},
   "outputs": [
    {
     "name": "stdout",
     "output_type": "stream",
     "text": [
      "Minimum age of an intern: -1.0\n"
     ]
    }
   ],
   "source": [
    "# Standardize date formats in 'Date of Birth' column\n",
    "data['Date of Birth'] = pd.to_datetime(data['Date of Birth'], errors='coerce')\n",
    "\n",
    "age_series = (pd.to_datetime('today') - data['Date of Birth']).astype('<m8[Y]')\n",
    "\n",
    "min_age = age_series.min()\n",
    "\n",
    "print(\"Minimum age of an intern:\", min_age)"
   ]
  },
  {
   "cell_type": "code",
   "execution_count": 205,
   "id": "afc293a3",
   "metadata": {},
   "outputs": [
    {
     "name": "stdout",
     "output_type": "stream",
     "text": [
      "Number of interns born on a Sunday: 125\n"
     ]
    }
   ],
   "source": [
    "\n",
    "data['Date of Birth'] = pd.to_datetime(data['Date of Birth'], errors='coerce')\n",
    "\n",
    "# Count the number of interns born on a Sunday\n",
    "sunday_born = data['Date of Birth'].dt.dayofweek == 6\n",
    "num_sunday_born = sunday_born.sum()\n",
    "print(\"Number of interns born on a Sunday:\", num_sunday_born)\n",
    "\n"
   ]
  },
  {
   "cell_type": "code",
   "execution_count": 206,
   "id": "b1b94894",
   "metadata": {},
   "outputs": [
    {
     "name": "stdout",
     "output_type": "stream",
     "text": [
      "Month in which the majority of interns are born: 7\n"
     ]
    }
   ],
   "source": [
    "# Find the month in which the majority of interns are born\n",
    "birth_months = data['Date of Birth'].apply(lambda x: x.month)\n",
    "majority_birth_month = birth_months.value_counts().idxmax()\n",
    "print(\"Month in which the majority of interns are born:\", majority_birth_month)"
   ]
  },
  {
   "cell_type": "code",
   "execution_count": 207,
   "id": "eea4b022",
   "metadata": {},
   "outputs": [
    {
     "name": "stdout",
     "output_type": "stream",
     "text": [
      "Average age of a working professional: 27.048387096774192\n"
     ]
    }
   ],
   "source": [
    "# Calculate the average age of working professionals\n",
    "working_professionals = data[data['What is your current profession?'] == 'Working Professional (I have completed my Education and working full time)'].copy()\n",
    "\n",
    "current_year = pd.to_datetime('today').year\n",
    "working_professionals['Date of Birth'] = pd.to_datetime(working_professionals['Date of Birth'], errors='coerce')\n",
    "working_professionals['Age'] = current_year - working_professionals['Date of Birth'].dt.year\n",
    "average_age = working_professionals['Age'].mean()\n",
    "print(\"Average age of a working professional:\", average_age)\n"
   ]
  },
  {
   "cell_type": "code",
   "execution_count": 212,
   "id": "c9f116e2",
   "metadata": {},
   "outputs": [
    {
     "name": "stdout",
     "output_type": "stream",
     "text": [
      "Maximum age of a freelancer: 44\n"
     ]
    },
    {
     "name": "stderr",
     "output_type": "stream",
     "text": [
      "C:\\Users\\Vaibhav\\AppData\\Local\\Temp\\ipykernel_18236\\2108298531.py:3: DeprecationWarning: In a future version, `df.iloc[:, i] = newvals` will attempt to set the values inplace instead of always setting a new array. To retain the old behavior, use either `df[df.columns[i]] = newvals` or, if columns are non-unique, `df.isetitem(i, newvals)`\n",
      "  freelancers.loc[:, 'Date of Birth'] = pd.to_datetime(freelancers['Date of Birth'], format='%m-%d-%Y', errors='coerce')\n"
     ]
    }
   ],
   "source": [
    "#Calculating max. age of freelancer\n",
    "freelancers = data.loc[data['What is your current profession?'] == 'Freelancer (I have completed my Education and working part time or owns a business)', :].copy()\n",
    "freelancers.loc[:, 'Date of Birth'] = pd.to_datetime(freelancers['Date of Birth'], format='%m-%d-%Y', errors='coerce')\n",
    "freelancers.dropna(subset=['Date of Birth'], inplace=True)\n",
    "max_age = (pd.to_datetime('today').year - freelancers['Date of Birth'].dt.year).max()\n",
    "print(\"Maximum age of a freelancer:\", max_age)\n"
   ]
  },
  {
   "cell_type": "code",
   "execution_count": 213,
   "id": "7b83f092",
   "metadata": {},
   "outputs": [
    {
     "name": "stdout",
     "output_type": "stream",
     "text": [
      "Skills in descending order:\n",
      "Extracting actionable insights from the raw data: 869\n",
      "Data Modelling: 825\n",
      "MLOps: 596\n",
      "LLMs: 533\n",
      "Basics of backend application development using python: 522\n",
      "Prompt Engineering: 425\n"
     ]
    }
   ],
   "source": [
    "# Split the skills and count the occurrences of each skill for data scientist\n",
    "skills = data['What do you think are most important skill right now for a skilled Data Scientist?'].str.split(', ', expand=True).stack().value_counts()\n",
    "\n",
    "skills_descending = skills.sort_values(ascending=False)\n",
    "print(\"Skills in descending order:\")\n",
    "for skill, count in skills_descending.items():\n",
    "    print(f\"{skill}: {count}\")\n"
   ]
  },
  {
   "cell_type": "code",
   "execution_count": 209,
   "id": "a82f55c6",
   "metadata": {},
   "outputs": [
    {
     "name": "stdout",
     "output_type": "stream",
     "text": [
      "Number of interns who selected 'Prompt Engineering' as the most important skill: 425\n"
     ]
    }
   ],
   "source": [
    "# Convert the skills data to string format\n",
    "data['What do you think are most important skill right now for a skilled Data Scientist?'] = data['What do you think are most important skill right now for a skilled Data Scientist?'].astype(str)\n",
    "\n",
    "# Count the number of interns who selected \"Prompt Engineering\" as the most important skill\n",
    "num_prompt_engineering = data['What do you think are most important skill right now for a skilled Data Scientist?'].str.contains('Prompt Engineering').sum()\n",
    "print(\"Number of interns who selected 'Prompt Engineering' as the most important skill:\", num_prompt_engineering)"
   ]
  },
  {
   "cell_type": "code",
   "execution_count": 210,
   "id": "e7ce270c",
   "metadata": {},
   "outputs": [
    {
     "name": "stdout",
     "output_type": "stream",
     "text": [
      "Number of interns who did not mention the name of the data science institute: 322\n"
     ]
    }
   ],
   "source": [
    "# Count the number of interns who did not mention the name of the data science institute\n",
    "no_institute_mentioned = data['Please mention the name of the institute where you have completed or are currently pursuing your Data Science Certification Course.'].isna().sum()\n",
    "print(\"Number of interns who did not mention the name of the data science institute:\", no_institute_mentioned)"
   ]
  },
  {
   "cell_type": "code",
   "execution_count": 211,
   "id": "450da710",
   "metadata": {},
   "outputs": [
    {
     "name": "stdout",
     "output_type": "stream",
     "text": [
      "Number of interns who mentioned Innomatics as their data science institute: 278\n"
     ]
    }
   ],
   "source": [
    "# Determining number of interns who mentioned \"innomatics\" in the institute names\n",
    "\n",
    "# Convert the institute names to lowercase for case-insensitive matching\n",
    "institute_names = data['Please mention the name of the institute where you have completed or are currently pursuing your Data Science Certification Course.'].str.lower()\n",
    "\n",
    "num_innomatics_mentioned = institute_names.str.contains('innomatics').sum()\n",
    "print(\"Number of interns who mentioned Innomatics as their data science institute:\", num_innomatics_mentioned)\n"
   ]
  },
  {
   "cell_type": "code",
   "execution_count": null,
   "id": "1decce24",
   "metadata": {},
   "outputs": [],
   "source": []
  }
 ],
 "metadata": {
  "kernelspec": {
   "display_name": "Python 3 (ipykernel)",
   "language": "python",
   "name": "python3"
  },
  "language_info": {
   "codemirror_mode": {
    "name": "ipython",
    "version": 3
   },
   "file_extension": ".py",
   "mimetype": "text/x-python",
   "name": "python",
   "nbconvert_exporter": "python",
   "pygments_lexer": "ipython3",
   "version": "3.11.3"
  }
 },
 "nbformat": 4,
 "nbformat_minor": 5
}
